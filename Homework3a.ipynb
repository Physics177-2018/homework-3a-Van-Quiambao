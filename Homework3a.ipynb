{
 "cells": [
  {
   "cell_type": "markdown",
   "metadata": {},
   "source": [
    "# Homework 3a: Plots in Python\n",
    "Physics 177, Spring 2018  \n",
    "**Due:** Thursday, April 19\n",
    "\n",
    "*Van Quiambao*"
   ]
  },
  {
   "cell_type": "markdown",
   "metadata": {},
   "source": [
    "*Discussion:* in this homework we will learn to use `matplotlib`, one of the scipy libraries for plotting results. Visualizations are one of the most important ways that we communicate our science, and producing effective graphics will be a key skill you will develop in this class.  \n",
    "\n",
    "**References**:\n",
    "* [matplotlib.org pyplot tutorial](https://matplotlib.org/users/pyplot_tutorial.html)\n",
    "* [Scipy Lecture Notes: Matplotlib](http://www.scipy-lectures.org/intro/matplotlib/index.html)\n",
    "* [The Scipy Cookbook](http://scipy-cookbook.readthedocs.io)\n",
    "* [Data Camp: Matplotlib](https://www.datacamp.com/community/tutorials/matplotlib-tutorial-python)\n",
    "* [Roshan tutorial](https://www.youtube.com/watch?v=kHPEz1wZZWc)\n",
    "\n",
    "**Notes**: \n",
    "* [Plot.ly](https://plot.ly/python/ipython-notebook-tutorial/) is an alternative to `matplotlib` for producing professional graphics. It can do lots of really neat things. If you're an advanced (or curious) user, you may want to familiarize yourself with both `matplotlib` *and* Plot.ly. (You're welcome to use Plot.ly to produce final versions of all plots in your homework... as long as the resulting plots look nice.)\n",
    "* [Seaborn](http://seaborn.pydata.org): complementary to `matplotlib`, some tools to make things even more aesthetic.\n",
    "\n",
    "https://jakevdp.github.io/blog/2017/12/05/installing-python-packages-from-jupyter/"
   ]
  },
  {
   "cell_type": "markdown",
   "metadata": {},
   "source": [
    "## 0. Set up\n",
    "\n",
    "You get no credit for doing \"problem 0,\" but you'll need to do it to install matplotlib."
   ]
  },
  {
   "cell_type": "markdown",
   "metadata": {},
   "source": [
    "### 0.a) Install Matplotlib\n",
    "\n",
    "You will need to **install matplotlib**:\n",
    "\n",
    "* If you are using anaconda, see [these instructions](https://anaconda.org/conda-forge/matplotlib).\n",
    "* Otherwise you can use `pip install matplotlib` at the command line. (Occasionally some people will say to run `python -m pop install`. [It's the same thing](https://stackoverflow.com/questions/25749621/whats-the-difference-between-pip-install-and-python-m-pip-install).)\n",
    "\n",
    "[More information](https://matplotlib.org/faq/installing_faq.html#installation)."
   ]
  },
  {
   "cell_type": "markdown",
   "metadata": {},
   "source": [
    "### 0.b Run the magic command for inline plots\n",
    "\n",
    "From now on, you will need to include `%matplotlib inline` to your notebooks so that the resulting plots are shown inside your notebook. If you don't add this line, then the plots won't show up. (Advanced users can add this to their iPython configuration file.)\n",
    "\n",
    "Run the following cell."
   ]
  },
  {
   "cell_type": "code",
   "execution_count": 1,
   "metadata": {},
   "outputs": [],
   "source": [
    "# Run this \n",
    "%matplotlib inline\n",
    "\n",
    "# https://stackoverflow.com/questions/43027980/purpose-of-matplotlib-inline/43028034"
   ]
  },
  {
   "cell_type": "markdown",
   "metadata": {},
   "source": [
    "### Discussion\n",
    "\n",
    "What the heck is this? Commands that start with `%` are called [magic commands](http://ipython.readthedocs.io/en/stable/interactive/magics.html). These are additional iPython commands that deal with the notebook environment that exist separately from the Python language . In this case, it enables matplotlib's inline mode.\n",
    "\n",
    "*Remarks*\n",
    "* This is not the only time a physicist will talk about magic, e.g. the [MAGIC telescope](http://www.ifae.es/eng/experiments/magic.html) and [magic numbrs](https://en.wikipedia.org/wiki/Magic_number_(physics)) in nuclear physics.\n",
    "* In case there's ambiguity about what is iPython versus Jupyter, see [this post on Quora](https://www.quora.com/What-is-the-difference-between-Jupyter-and-IPython-Notebook), [this post on DataCamp](https://www.datacamp.com/community/blog/ipython-jupyter), or [this more technical post on the Jupyter blog](https://blog.jupyter.org/the-big-split-9d7b88a031a7). Long story short: Jupyter was born out of iPython, but generalized include other languages in the same environment."
   ]
  },
  {
   "cell_type": "markdown",
   "metadata": {},
   "source": [
    "## 1. Run the following sample code\n",
    "\n",
    "Here's our first prototypical sample matplotlib example, courtesy of the [Scipy lectures](http://www.scipy-lectures.org/intro/matplotlib/index.html). You get credit for this problem if you successfully generate a plot at the end. If not, you should troubleshoot until you produce the plot.\n",
    "\n",
    "**Important guideline**: always leave time to troubleshoot. Expect the following scaling:\n",
    "\n",
    "$$\\frac{t_{\\text{troubleshoot}}}{t_{\\text{program}}} \\sim e^{\\text{complexity}}$$\n",
    "\n",
    "I do not know the units of [complexity](https://en.wikipedia.org/wiki/Programming_complexity)."
   ]
  },
  {
   "cell_type": "code",
   "execution_count": 2,
   "metadata": {},
   "outputs": [
    {
     "data": {
      "image/png": "[encoded data removed]",
      "text/plain": [
       "<Figure size 432x288 with 1 Axes>"
      ]
     },
     "metadata": {},
     "output_type": "display_data"
    }
   ],
   "source": [
    "import numpy as np\n",
    "import matplotlib.pyplot as plt\n",
    "\n",
    "X = np.linspace(-np.pi, np.pi, 10)\n",
    "\n",
    "C, S = np.cos(X), np.sin(X)\n",
    "\n",
    "plt.plot(X, C)\n",
    "plt.plot(X, S)\n",
    "\n",
    "plt.show()"
   ]
  },
  {
   "cell_type": "markdown",
   "metadata": {},
   "source": [
    "## 2. Understanding the code\n",
    "\n",
    "In this problem, you will answer short questions about the code above to think about what the code does and to understand what it means. Solutions include short pieces of code. \n",
    "\n",
    "Please use any appropriate references to answer these questions. You may ask other students, but you are responsible for using your own words and any erroneous ideas that you may pick up. \n",
    "\n",
    "Let's start with the beginning of the code:\n",
    "\n",
    "```python\n",
    "import numpy as np\n",
    "import matplotlib.pyplot as plt\n",
    "```\n",
    "\n",
    "We're using our friend `numpy` (from Homework 2a) and a new friend, `matplotlib.pyplot`. Our new friend has a complicated name so we've given a nickname, `plt`. We're going to see how to use `plt` to make plots."
   ]
  },
  {
   "cell_type": "markdown",
   "metadata": {},
   "source": [
    "## 2.a) Numpy linspace\n",
    "\n",
    "In problem 1, we wrote\n",
    "\n",
    "```python\n",
    "X = np.linspace(-np.pi, np.pi, 10)\n",
    "```\n",
    "\n",
    "* In the cells below, print out the value of `X` and explain what it is. (If you are confused, you can start by printing out what `np.pi` is.) What type of object is it? How many elements? What is the range of the elements, what is the spacing between them?\n",
    "\n",
    "* Copy and modify the above line so that the range of elements goes from -1 to 1 with 101 points."
   ]
  },
  {
   "cell_type": "markdown",
   "metadata": {},
   "source": [
    "X is defined of numbers from two limits and you can modify how many points you want in between the limit of water. f"
   ]
  },
  {
   "cell_type": "code",
   "execution_count": 3,
   "metadata": {},
   "outputs": [
    {
     "name": "stdout",
     "output_type": "stream",
     "text": [
      "[-1.         -0.97979798 -0.95959596 -0.93939394 -0.91919192 -0.8989899\n",
      " -0.87878788 -0.85858586 -0.83838384 -0.81818182 -0.7979798  -0.77777778\n",
      " -0.75757576 -0.73737374 -0.71717172 -0.6969697  -0.67676768 -0.65656566\n",
      " -0.63636364 -0.61616162 -0.5959596  -0.57575758 -0.55555556 -0.53535354\n",
      " -0.51515152 -0.49494949 -0.47474747 -0.45454545 -0.43434343 -0.41414141\n",
      " -0.39393939 -0.37373737 -0.35353535 -0.33333333 -0.31313131 -0.29292929\n",
      " -0.27272727 -0.25252525 -0.23232323 -0.21212121 -0.19191919 -0.17171717\n",
      " -0.15151515 -0.13131313 -0.11111111 -0.09090909 -0.07070707 -0.05050505\n",
      " -0.03030303 -0.01010101  0.01010101  0.03030303  0.05050505  0.07070707\n",
      "  0.09090909  0.11111111  0.13131313  0.15151515  0.17171717  0.19191919\n",
      "  0.21212121  0.23232323  0.25252525  0.27272727  0.29292929  0.31313131\n",
      "  0.33333333  0.35353535  0.37373737  0.39393939  0.41414141  0.43434343\n",
      "  0.45454545  0.47474747  0.49494949  0.51515152  0.53535354  0.55555556\n",
      "  0.57575758  0.5959596   0.61616162  0.63636364  0.65656566  0.67676768\n",
      "  0.6969697   0.71717172  0.73737374  0.75757576  0.77777778  0.7979798\n",
      "  0.81818182  0.83838384  0.85858586  0.87878788  0.8989899   0.91919192\n",
      "  0.93939394  0.95959596  0.97979798  1.        ]\n"
     ]
    }
   ],
   "source": [
    "# MODIFY THIS CODE (to give numbers from -1 to 1 w/ 100 points)\n",
    "X = np.linspace(-1, 1, 100)\n",
    "\n",
    "print(X)"
   ]
  },
  {
   "cell_type": "markdown",
   "metadata": {},
   "source": [
    "## 2.b) Numpy functions\n",
    "\n",
    "In the following line from problem 1:\n",
    "\n",
    "```python\n",
    "C, S = np.cos(X), np.sin(X)\n",
    "```\n",
    "\n",
    "We defined two arrays, `C` and `S`. These are the cosine and sine of `X`. This is remarkable because `X` is not a number, it's a collection of numbers. The result is that we have a list of $x$-values and a list of $y$-values to plot.\n",
    "\n",
    "* Re-define (overwrite) `C` to be `np.cos(X)` for the revised definition of `X` above.\n",
    "* Define a numpy array `Y` that is the $\\mathcal O(x^2)$ Taylor expansion of $f(x) = \\cos(x)$. \n",
    "* Print `Y`."
   ]
  },
  {
   "cell_type": "code",
   "execution_count": 6,
   "metadata": {},
   "outputs": [
    {
     "name": "stdout",
     "output_type": "stream",
     "text": [
      "[0.5        0.51999796 0.5395878  0.55876951 0.57754311 0.59590858\n",
      " 0.61386593 0.63141516 0.64855627 0.66528926 0.68161412 0.69753086\n",
      " 0.71303949 0.72813999 0.74283236 0.75711662 0.77099276 0.78446077\n",
      " 0.79752066 0.81017243 0.82241608 0.83425161 0.84567901 0.8566983\n",
      " 0.86730946 0.8775125  0.88730742 0.89669421 0.90567289 0.91424344\n",
      " 0.92240588 0.93016019 0.93750638 0.94444444 0.95097439 0.95709621\n",
      " 0.96280992 0.9681155  0.97301296 0.9775023  0.98158351 0.98525661\n",
      " 0.98852158 0.99137843 0.99382716 0.99586777 0.99750026 0.99872462\n",
      " 0.99954086 0.99994898 0.99994898 0.99954086 0.99872462 0.99750026\n",
      " 0.99586777 0.99382716 0.99137843 0.98852158 0.98525661 0.98158351\n",
      " 0.9775023  0.97301296 0.9681155  0.96280992 0.95709621 0.95097439\n",
      " 0.94444444 0.93750638 0.93016019 0.92240588 0.91424344 0.90567289\n",
      " 0.89669421 0.88730742 0.8775125  0.86730946 0.8566983  0.84567901\n",
      " 0.83425161 0.82241608 0.81017243 0.79752066 0.78446077 0.77099276\n",
      " 0.75711662 0.74283236 0.72813999 0.71303949 0.69753086 0.68161412\n",
      " 0.66528926 0.64855627 0.63141516 0.61386593 0.59590858 0.57754311\n",
      " 0.55876951 0.5395878  0.51999796 0.5       ]\n"
     ]
    }
   ],
   "source": [
    "import numpy as np\n",
    "\n",
    "X = np.linspace(-1, 1, 100)\n",
    "\n",
    "C = np.cos(X)\n",
    "\n",
    "Y = 1 - (.5*X**2)\n",
    "\n",
    "print(Y)\n"
   ]
  },
  {
   "cell_type": "markdown",
   "metadata": {},
   "source": [
    "## 2.c) Plotting with `matplotlib.pyplot` (I mean, `plt`)\n",
    "\n",
    "Now we get to the part where we do something:\n",
    "\n",
    "```python\n",
    "plt.plot(X, C)\n",
    "plt.plot(X, S)\n",
    "\n",
    "plt.show()\n",
    "```\n",
    "\n",
    "Imagine that our friend `plt` is a street artist who is selling caricature portraits; the type that you'd see in carnivals or at Disneyland. The first two lines above say the following:\n",
    "\n",
    "\"*Hey `plt`, please sketch a picture where the $x$-axis of each point is in the array `X` and the $y$-axis of each point is in the array `C`.*\"\n",
    "\n",
    "Then we realize that in addition to this, we also want to see a similar picture with `X` and `S` respectively---except we want this overlaid on the previous picture. \n",
    "\n",
    "At this point, `plt` is drawing on his easel, but we don't see the final product yet. It's only when we ask `plt` to show us the plot that `plt` will output for us to see.\n",
    "\n",
    "In the cell below and with the values of `X`, `Y`, and `C` in this problem: plot $\\cos(x)$ and its second order Taylor approximation in the range $x \\in [-1,1]$."
   ]
  },
  {
   "cell_type": "code",
   "execution_count": 8,
   "metadata": {},
   "outputs": [
    {
     "data": {
      "image/png": "[encoded data removed]",
      "text/plain": [
       "<Figure size 432x288 with 1 Axes>"
      ]
     },
     "metadata": {},
     "output_type": "display_data"
    }
   ],
   "source": [
    "import numpy as np\n",
    "import matplotlib.pyplot as plt\n",
    "\n",
    "plt.plot(X,C)\n",
    "plt.plot(X,Y)\n",
    "\n",
    "plt.show()"
   ]
  },
  {
   "cell_type": "code",
   "execution_count": null,
   "metadata": {},
   "outputs": [],
   "source": []
  }
 ],
 "metadata": {
  "kernelspec": {
   "display_name": "Python 3",
   "language": "python",
   "name": "python3"
  },
  "language_info": {
   "codemirror_mode": {
    "name": "ipython",
    "version": 3
   },
   "file_extension": ".py",
   "mimetype": "text/x-python",
   "name": "python",
   "nbconvert_exporter": "python",
   "pygments_lexer": "ipython3",
   "version": "3.6.4"
  }
 },
 "nbformat": 4,
 "nbformat_minor": 2
}
